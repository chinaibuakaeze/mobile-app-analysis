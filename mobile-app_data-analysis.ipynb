{
 "cells": [
  {
   "cell_type": "markdown",
   "id": "0593e636",
   "metadata": {},
   "source": [
    "# Profitale Apps for App Store and Google Play Markets\n",
    "\n",
    "\n",
    "This project is to analyze data for ios and android mobile apps.The apps are free to download and install and the main source of revenue is in-app adds.The number of users determines revenue for any given app. The goal is to analyze the data and help developers understand what kind of apps would likely attract more users.\n",
    "\n",
    "\n",
    "## Opening and Exploring the data\n",
    "\n",
    "There are currently nearly 2 million apps on the [Apple app store](https://www.apple.com/app-store/#:~:text=Because%20we%20offer%20nearly%20two,every%20single%20one%20of%20them.) and over 3 million [apps](https://appinventiv.com/blog/google-play-store-statistics/#:~:text=As%20per%20latest%20Google%20Play,Play%20Store%20every%20single%20day.) on the google play store. Collecting data for over 5 million apps requires a significant amount of time and money, so for this project I'll be analyzing a sample of data instead. There's currently existing data that seems suitable for the purpose of this project. \n",
    "\n",
    "* A [dataset](https://www.kaggle.com/datasets/lava18/google-play-store-apps) containing data about 10, 000 apps on google play store\n",
    "* A [dataset](https://www.kaggle.com/datasets/ramamet4/app-store-apple-data-set-10k-apps) containing data about 7200 apps"
   ]
  },
  {
   "cell_type": "code",
   "execution_count": 63,
   "id": "47ce330b",
   "metadata": {},
   "outputs": [],
   "source": [
    "from csv import reader\n",
    "\n",
    "# Ths function takes any file as an input and return the output as a list \n",
    "def read_file(filename):\n",
    "    opened_file = open(filename)\n",
    "    dataset = reader(opened_file)\n",
    "    return list(dataset)\n",
    "\n",
    "\n",
    "    "
   ]
  },
  {
   "cell_type": "code",
   "execution_count": 64,
   "id": "df88233a",
   "metadata": {},
   "outputs": [],
   "source": [
    "# Apple store dataset\n",
    "apple_store_dataset = read_file('AppleStore.csv')\n",
    "ios_dataset_header = apple_store_dataset[0]\n",
    "ios_dataset = apple_store_dataset[1:]\n",
    "\n",
    "\n",
    "#Google play store dataset\n",
    "google_store_dataset = read_file('googleplaystore.csv')\n",
    "android_dataset_header = google_store_dataset[0]\n",
    "android_dataset = google_store_dataset[1:]\n",
    "\n"
   ]
  },
  {
   "cell_type": "code",
   "execution_count": 65,
   "id": "dcfa7857",
   "metadata": {},
   "outputs": [],
   "source": [
    "# This function takes in dataset as a list of list without the header row, \n",
    "#start and end as intergers to show how to slice the list \n",
    "def explore_data(dataset, start, end, rows_and_cols=False):\n",
    "    data_split = dataset[start:end]\n",
    "    for row in data_split:\n",
    "        print(row)\n",
    "        print(\"\\n\")\n",
    "    if rows_and_cols:\n",
    "        print(f\"Number of rows: {len(dataset)}\")\n",
    "        print(f\"Number of columns: {len(dataset[0])}\")\n",
    "                      "
   ]
  },
  {
   "cell_type": "code",
   "execution_count": 66,
   "id": "05006054",
   "metadata": {},
   "outputs": [
    {
     "name": "stdout",
     "output_type": "stream",
     "text": [
      "['Photo Editor & Candy Camera & Grid & ScrapBook', 'ART_AND_DESIGN', '4.1', '159', '19M', '10,000+', 'Free', '0', 'Everyone', 'Art & Design', 'January 7, 2018', '1.0.0', '4.0.3 and up']\n",
      "\n",
      "\n",
      "['Coloring book moana', 'ART_AND_DESIGN', '3.9', '967', '14M', '500,000+', 'Free', '0', 'Everyone', 'Art & Design;Pretend Play', 'January 15, 2018', '2.0.0', '4.0.3 and up']\n",
      "\n",
      "\n",
      "['U Launcher Lite – FREE Live Cool Themes, Hide Apps', 'ART_AND_DESIGN', '4.7', '87510', '8.7M', '5,000,000+', 'Free', '0', 'Everyone', 'Art & Design', 'August 1, 2018', '1.2.4', '4.0.3 and up']\n",
      "\n",
      "\n",
      "Number of rows: 10841\n",
      "Number of columns: 13\n",
      "\n",
      "\n",
      "['App', 'Category', 'Rating', 'Reviews', 'Size', 'Installs', 'Type', 'Price', 'Content Rating', 'Genres', 'Last Updated', 'Current Ver', 'Android Ver']\n"
     ]
    }
   ],
   "source": [
    "# Explore data for the android apps \n",
    "explore_data(android_dataset, 0, 3, True)\n",
    "print(\"\\n\")\n",
    "print(android_dataset_header)"
   ]
  },
  {
   "cell_type": "markdown",
   "id": "6c56f1b0",
   "metadata": {},
   "source": [
    "The number of rows in the google dataset is 10841 and the number of columns is 13. The rows corresponds to the number of apps on the google play store, so there are 10841 apps on the google play store.  The column that seem useful for the analysis are: \"App, Category, Rating, Reviews, Type, Price, Content Rating, Genres\""
   ]
  },
  {
   "cell_type": "code",
   "execution_count": 67,
   "id": "a8cdfddd",
   "metadata": {},
   "outputs": [
    {
     "name": "stdout",
     "output_type": "stream",
     "text": [
      "['284882215', 'Facebook', '389879808', 'USD', '0.0', '2974676', '212', '3.5', '3.5', '95.0', '4+', 'Social Networking', '37', '1', '29', '1']\n",
      "\n",
      "\n",
      "['389801252', 'Instagram', '113954816', 'USD', '0.0', '2161558', '1289', '4.5', '4.0', '10.23', '12+', 'Photo & Video', '37', '0', '29', '1']\n",
      "\n",
      "\n",
      "['529479190', 'Clash of Clans', '116476928', 'USD', '0.0', '2130805', '579', '4.5', '4.5', '9.24.12', '9+', 'Games', '38', '5', '18', '1']\n",
      "\n",
      "\n",
      "Number of rows: 7197\n",
      "Number of columns: 16\n",
      "\n",
      "\n",
      "['id', 'track_name', 'size_bytes', 'currency', 'price', 'rating_count_tot', 'rating_count_ver', 'user_rating', 'user_rating_ver', 'ver', 'cont_rating', 'prime_genre', 'sup_devices.num', 'ipadSc_urls.num', 'lang.num', 'vpp_lic']\n"
     ]
    }
   ],
   "source": [
    "# Explore data for the apple store data set\n",
    "explore_data(ios_dataset, 0, 3, True)\n",
    "print(\"\\n\")\n",
    "print(ios_dataset_header)"
   ]
  },
  {
   "cell_type": "markdown",
   "id": "1b1b7e42",
   "metadata": {},
   "source": [
    "The number of rows in the apple dataset is 7197 and the number of columns is 16. The rows corresponds to the number of apps in the apple store which is 7197 in this case. The columns that seem useful for this analysis are \"track_name, currency, price, rating_count_tot, user_rating, prime_genre\"."
   ]
  },
  {
   "cell_type": "markdown",
   "id": "271940e2",
   "metadata": {},
   "source": [
    "## Cleaning Data\n",
    "\n",
    "The company only builds apps that are free to download and install for English speakers. With this in mind, I'll be removing data on paid apps and non-English apps. From the [discussion](http://a.com), a column in row 10472 is missing. Row 10472 corresponds to the *Life Made WI-Fi Touchscreen Photo Frame app* and the category column is missing and the rest of the data in this row is placed in the wrong columns. In other to ensure that the analysis is correct, I'll be removing this row from the dataset. "
   ]
  },
  {
   "cell_type": "code",
   "execution_count": 68,
   "id": "cc611289",
   "metadata": {},
   "outputs": [
    {
     "name": "stdout",
     "output_type": "stream",
     "text": [
      "['Life Made WI-Fi Touchscreen Photo Frame', '1.9', '19', '3.0M', '1,000+', 'Free', '0', 'Everyone', '', 'February 11, 2018', '1.0.19', '4.0 and up']\n",
      "12\n",
      "\n",
      "\n",
      "['App', 'Category', 'Rating', 'Reviews', 'Size', 'Installs', 'Type', 'Price', 'Content Rating', 'Genres', 'Last Updated', 'Current Ver', 'Android Ver']\n",
      "13\n"
     ]
    }
   ],
   "source": [
    "print(android_dataset[10472])\n",
    "print(len(android_dataset[10472]))\n",
    "print(\"\\n\")\n",
    "print(android_dataset_header)\n",
    "print(len(android_dataset_header))"
   ]
  },
  {
   "cell_type": "code",
   "execution_count": 69,
   "id": "987100eb",
   "metadata": {},
   "outputs": [
    {
     "name": "stdout",
     "output_type": "stream",
     "text": [
      "yes\n"
     ]
    }
   ],
   "source": [
    "# deleting row 10472 and ensuring the row after it isn't deleted if code is run twice\n",
    "if (len(android_dataset[10472])) == 12 and android_dataset[10472][0] == \"Life Made WI-Fi Touchscreen Photo Frame\":\n",
    "    del(android_dataset[10472])\n",
    "    print(\"yes\")\n",
    "else:\n",
    "    print (\"no\")"
   ]
  },
  {
   "cell_type": "markdown",
   "id": "f47feb92",
   "metadata": {},
   "source": [
    "There are multiple entries in the app data from google play store. For the analysis, I don't want to count certain apps more than once, so I'll delete the duplicates and keep one entry per app. There's a difference in the number of reviews, for example a  duplicate entry for the instagram app has different review numbers which means the data was collected at different times. Instead of removing the duplicates randomly, I'll be keeping the app entry with the highest number of reviews as this means that particular entry is the most recent."
   ]
  },
  {
   "cell_type": "code",
   "execution_count": 70,
   "id": "999d6d4b",
   "metadata": {},
   "outputs": [
    {
     "name": "stdout",
     "output_type": "stream",
     "text": [
      "9659\n"
     ]
    }
   ],
   "source": [
    "android_data_dict = {}  #dictionary to store android dataset without duplicates\n",
    "for row in android_dataset:\n",
    "    if row[0] not in android_data_dict:\n",
    "        android_data_dict[row[0]] = int(row[3])\n",
    "    else:\n",
    "        if android_data_dict[row[0]] < int(row[3]):\n",
    "            android_data_dict[row[0]] = int(row[3])\n",
    "print(len(android_data_dict))\n",
    "        "
   ]
  },
  {
   "cell_type": "markdown",
   "id": "7ee32811",
   "metadata": {},
   "source": [
    "The total number of apps in the android dataset is 10841. After I removed the *Life Made WI-Fi Touchscreen Photo Frame*, there are 10840 apps left. Since there are 1181 duplicates, the total number of apps without duplicates should be 10840 - 1181 = 9659. The android_data_dict that has apps with the highest number of revieews for each without duplicate entry has a length of 9659. I'll use this dictionary to remove the duplicates in the actual dataset list."
   ]
  },
  {
   "cell_type": "code",
   "execution_count": 71,
   "id": "1bc4648e",
   "metadata": {},
   "outputs": [
    {
     "name": "stdout",
     "output_type": "stream",
     "text": [
      "9659\n"
     ]
    }
   ],
   "source": [
    "android_clean_dataset = []\n",
    "already_seen = []\n",
    "for row in android_dataset:\n",
    "    ratings = int(row[3])\n",
    "    if ratings == android_data_dict[row[0]] and row[0] not in already_seen:\n",
    "        android_clean_dataset.append(row)\n",
    "        already_seen.append(row[0])\n",
    "print(len(android_clean_dataset))     "
   ]
  },
  {
   "cell_type": "markdown",
   "id": "9f782f20",
   "metadata": {},
   "source": [
    "The length of the clean list matches the length of the android_data_dict; they're both 9659. The duplicates in the actual dataset list have been successfully removed. Next I'll check if the apps are designed for an English speaking audience since the company apps are for only English speakers.I'll remove apps that are for non-English speaking audiences. To do this, I'll use the built-in ord() function to check that the characters are in the range of 0 to 127 according to the ACII system."
   ]
  },
  {
   "cell_type": "code",
   "execution_count": 72,
   "id": "13ae6580",
   "metadata": {},
   "outputs": [
    {
     "name": "stdout",
     "output_type": "stream",
     "text": [
      "Number of android apps left: 9614\n",
      "Number of ios apps left: 6183\n"
     ]
    }
   ],
   "source": [
    "def is_english_app(app_name):\n",
    "    count = 0  #Use count to account for emojis and special characters in English apps\n",
    "    for letter in app_name: \n",
    "        if ord(letter) <0 or ord(letter)>127: \n",
    "            count += 1\n",
    "    if count > 3:\n",
    "        return False\n",
    "    else:\n",
    "        return True\n",
    "    \n",
    "#Filter google dataset for English apps \n",
    "android_eng_dataset = []\n",
    "for row in android_clean_dataset:\n",
    "    if is_english_app(row[0]) == True:\n",
    "        android_eng_dataset.append(row)\n",
    "print(\"Number of android apps left: \"+ str(len(android_eng_dataset)))\n",
    "\n",
    "#Filter apple store dataset for English apps\n",
    "ios_eng_dataset = []\n",
    "for row in ios_dataset:\n",
    "    if is_english_app(row[1]) == True:\n",
    "        ios_eng_dataset.append(row)\n",
    "print(\"Number of ios apps left: \"+ str(len(ios_eng_dataset)))"
   ]
  },
  {
   "cell_type": "markdown",
   "id": "3fcf31fa",
   "metadata": {},
   "source": [
    "As mentioned in the introduction, we only build apps that are free to download and install and the main source of revenue consists of in-app adds. The datasets contain both free and non-free apps; I'll isolate only the free apps for the analysis."
   ]
  },
  {
   "cell_type": "code",
   "execution_count": 73,
   "id": "49dea806",
   "metadata": {},
   "outputs": [
    {
     "name": "stdout",
     "output_type": "stream",
     "text": [
      "Final number of android apps for analysis: 8864\n",
      "Final number of ios apps for analysis: 3222\n"
     ]
    }
   ],
   "source": [
    "#Retrieve list of free android apps\n",
    "android_free_apps = []\n",
    "for row in android_eng_dataset:\n",
    "    if row[7] == '0':\n",
    "        android_free_apps.append(row)\n",
    "        \n",
    "#Retrieve list of free ios apps\n",
    "ios_free_apps = []\n",
    "for row in ios_eng_dataset:\n",
    "    if float(row[4]) == 0.0:\n",
    "        ios_free_apps.append(row)\n",
    "        \n",
    "print(\"Final number of android apps for analysis: \"+ str(len(android_free_apps)))\n",
    "print(\"Final number of ios apps for analysis: \"+ str(len(ios_free_apps)))"
   ]
  },
  {
   "cell_type": "markdown",
   "id": "fe3e978c",
   "metadata": {},
   "source": [
    "## Analysis \n",
    "The goal of the analysis is to determine what kind of apps would attract more users because revenue is highly influenced by number of people using the apps. The validation strategy for an app idea is comprised of 3 steps:\n",
    "1. Build a minimal android version of the app and add it to google play\n",
    "2. If the app has a good response from users, develop it further\n",
    "3. If the app is profitable after 6 months, build an ios version of the app and add it to the app store\n",
    "\n",
    "Since the end goal is to add the app to both google play and app store, I need to find apps that are successful in both markets. I'll begin the analysis by exploring the common apps in each market"
   ]
  },
  {
   "cell_type": "code",
   "execution_count": 77,
   "id": "6c83c166",
   "metadata": {},
   "outputs": [],
   "source": [
    "#function to create frequency table takes in a nested list(dataset) and an index as inputs to \n",
    "#generate a frequency table \n",
    "def freq_table(dataset, index):\n",
    "    freq_dict = {}\n",
    "    count = 0\n",
    "    for row in dataset:\n",
    "        count += 1\n",
    "        value = row[index]\n",
    "        if value in freq_dict:\n",
    "            freq_dict[value] += 1\n",
    "        else:\n",
    "            freq_dict[value] = 1\n",
    "    for key in freq_dict:\n",
    "        freq_dict[key] = (freq_dict[key]/count) * 100\n",
    "    return freq_dict\n",
    "\n",
    "\n",
    "def display_table(dataset, index):\n",
    "    table = freq_table(dataset, index)\n",
    "    table_display = []\n",
    "    for key in table:\n",
    "        key_val_as_tuple = (table[key], key)\n",
    "        table_display.append(key_val_as_tuple)\n",
    "\n",
    "    table_sorted = sorted(table_display, reverse = True)\n",
    "    for entry in table_sorted:\n",
    "        print(entry[1], ':', entry[0])\n",
    "        \n",
    "    "
   ]
  },
  {
   "cell_type": "code",
   "execution_count": 78,
   "id": "d922010d",
   "metadata": {},
   "outputs": [
    {
     "name": "stdout",
     "output_type": "stream",
     "text": [
      "Games : 58.16263190564867\n",
      "Entertainment : 7.883302296710118\n",
      "Photo & Video : 4.9658597144630665\n",
      "Education : 3.662321539416512\n",
      "Social Networking : 3.2898820608317814\n",
      "Shopping : 2.60707635009311\n",
      "Utilities : 2.5139664804469275\n",
      "Sports : 2.1415270018621975\n",
      "Music : 2.0484171322160147\n",
      "Health & Fitness : 2.0173805090006205\n",
      "Productivity : 1.7380509000620732\n",
      "Lifestyle : 1.5828677839851024\n",
      "News : 1.3345747982619491\n",
      "Travel : 1.2414649286157666\n",
      "Finance : 1.1173184357541899\n",
      "Weather : 0.8690254500310366\n",
      "Food & Drink : 0.8069522036002483\n",
      "Reference : 0.5586592178770949\n",
      "Business : 0.5276225946617008\n",
      "Book : 0.4345127250155183\n",
      "Navigation : 0.186219739292365\n",
      "Medical : 0.186219739292365\n",
      "Catalogs : 0.12414649286157665\n"
     ]
    }
   ],
   "source": [
    "# Display prime genre frequency table for ios apps\n",
    "display_table(ios_free_apps, 11)"
   ]
  },
  {
   "cell_type": "markdown",
   "id": "79fad940",
   "metadata": {},
   "source": [
    "For the free English ios apps, 58% of the apps are in the games category, 8% of the apps are in entertainment category while 5% are in the photos and videos category. The general impression is that most of the apps are in the fun category(games, entertainment, photo & video, social networking, sports) compared to fewer apps in the practical category (education with about 4%, utilities with about 3% and productivity about 2%).  "
   ]
  },
  {
   "cell_type": "code",
   "execution_count": 80,
   "id": "f2606b7f",
   "metadata": {},
   "outputs": [
    {
     "name": "stdout",
     "output_type": "stream",
     "text": [
      "FAMILY : 18.907942238267147\n",
      "GAME : 9.724729241877256\n",
      "TOOLS : 8.461191335740072\n",
      "BUSINESS : 4.591606498194946\n",
      "LIFESTYLE : 3.9034296028880866\n",
      "PRODUCTIVITY : 3.892148014440433\n",
      "FINANCE : 3.7003610108303246\n",
      "MEDICAL : 3.531137184115524\n",
      "SPORTS : 3.395758122743682\n",
      "PERSONALIZATION : 3.3167870036101084\n",
      "COMMUNICATION : 3.2378158844765346\n",
      "HEALTH_AND_FITNESS : 3.0798736462093865\n",
      "PHOTOGRAPHY : 2.944494584837545\n",
      "NEWS_AND_MAGAZINES : 2.7978339350180503\n",
      "SOCIAL : 2.6624548736462095\n",
      "TRAVEL_AND_LOCAL : 2.33528880866426\n",
      "SHOPPING : 2.2450361010830324\n",
      "BOOKS_AND_REFERENCE : 2.1435018050541514\n",
      "DATING : 1.861462093862816\n",
      "VIDEO_PLAYERS : 1.7937725631768955\n",
      "MAPS_AND_NAVIGATION : 1.3989169675090252\n",
      "FOOD_AND_DRINK : 1.2409747292418771\n",
      "EDUCATION : 1.1620036101083033\n",
      "ENTERTAINMENT : 0.9589350180505415\n",
      "LIBRARIES_AND_DEMO : 0.9363718411552346\n",
      "AUTO_AND_VEHICLES : 0.9250902527075812\n",
      "HOUSE_AND_HOME : 0.8235559566787004\n",
      "WEATHER : 0.8009927797833934\n",
      "EVENTS : 0.7107400722021661\n",
      "PARENTING : 0.6543321299638989\n",
      "ART_AND_DESIGN : 0.6430505415162455\n",
      "COMICS : 0.6204873646209386\n",
      "BEAUTY : 0.5979241877256317\n"
     ]
    }
   ],
   "source": [
    "#Display category frequency table for android apps\n",
    "display_table(android_free_apps, 1)"
   ]
  },
  {
   "cell_type": "markdown",
   "id": "5a6731fd",
   "metadata": {},
   "source": [
    "The overall impression for the free English android apps is different from the free English ios apps. There's no one dominant genre consisiting of more than 50% as there is in the ios apps. Also most of the apps are designed for more practical purposes(e.g family, tools, business, lifestyle, productivity) unlike the ios apps. This is also higlighted in the frquency table below showing the genres column with andorid apps dataset. The difference between the category and the genres columns in android apps is not clear at the moment. However, the genres column appears more detailed, but since I'm looking for the big picture I'll focus on the category column moving forward."
   ]
  },
  {
   "cell_type": "code",
   "execution_count": 81,
   "id": "5f9af6f3",
   "metadata": {},
   "outputs": [
    {
     "name": "stdout",
     "output_type": "stream",
     "text": [
      "Tools : 8.449909747292418\n",
      "Entertainment : 6.069494584837545\n",
      "Education : 5.347472924187725\n",
      "Business : 4.591606498194946\n",
      "Productivity : 3.892148014440433\n",
      "Lifestyle : 3.892148014440433\n",
      "Finance : 3.7003610108303246\n",
      "Medical : 3.531137184115524\n",
      "Sports : 3.463447653429603\n",
      "Personalization : 3.3167870036101084\n",
      "Communication : 3.2378158844765346\n",
      "Action : 3.1024368231046933\n",
      "Health & Fitness : 3.0798736462093865\n",
      "Photography : 2.944494584837545\n",
      "News & Magazines : 2.7978339350180503\n",
      "Social : 2.6624548736462095\n",
      "Travel & Local : 2.3240072202166067\n",
      "Shopping : 2.2450361010830324\n",
      "Books & Reference : 2.1435018050541514\n",
      "Simulation : 2.0419675090252705\n",
      "Dating : 1.861462093862816\n",
      "Arcade : 1.8501805054151623\n",
      "Video Players & Editors : 1.7712093862815883\n",
      "Casual : 1.7599277978339352\n",
      "Maps & Navigation : 1.3989169675090252\n",
      "Food & Drink : 1.2409747292418771\n",
      "Puzzle : 1.128158844765343\n",
      "Racing : 0.9927797833935018\n",
      "Role Playing : 0.9363718411552346\n",
      "Libraries & Demo : 0.9363718411552346\n",
      "Auto & Vehicles : 0.9250902527075812\n",
      "Strategy : 0.9138086642599278\n",
      "House & Home : 0.8235559566787004\n",
      "Weather : 0.8009927797833934\n",
      "Events : 0.7107400722021661\n",
      "Adventure : 0.6768953068592057\n",
      "Comics : 0.6092057761732852\n",
      "Beauty : 0.5979241877256317\n",
      "Art & Design : 0.5979241877256317\n",
      "Parenting : 0.4963898916967509\n",
      "Card : 0.45126353790613716\n",
      "Casino : 0.42870036101083037\n",
      "Trivia : 0.41741877256317694\n",
      "Educational;Education : 0.39485559566787\n",
      "Board : 0.3835740072202166\n",
      "Educational : 0.3722924187725632\n",
      "Education;Education : 0.33844765342960287\n",
      "Word : 0.2594765342960289\n",
      "Casual;Pretend Play : 0.236913357400722\n",
      "Music : 0.2030685920577617\n",
      "Racing;Action & Adventure : 0.16922382671480143\n",
      "Puzzle;Brain Games : 0.16922382671480143\n",
      "Entertainment;Music & Video : 0.16922382671480143\n",
      "Casual;Brain Games : 0.13537906137184114\n",
      "Casual;Action & Adventure : 0.13537906137184114\n",
      "Arcade;Action & Adventure : 0.12409747292418773\n",
      "Action;Action & Adventure : 0.10153429602888085\n",
      "Educational;Pretend Play : 0.09025270758122744\n",
      "Simulation;Action & Adventure : 0.078971119133574\n",
      "Parenting;Education : 0.078971119133574\n",
      "Entertainment;Brain Games : 0.078971119133574\n",
      "Board;Brain Games : 0.078971119133574\n",
      "Parenting;Music & Video : 0.06768953068592057\n",
      "Educational;Brain Games : 0.06768953068592057\n",
      "Casual;Creativity : 0.06768953068592057\n",
      "Art & Design;Creativity : 0.06768953068592057\n",
      "Education;Pretend Play : 0.056407942238267145\n",
      "Role Playing;Pretend Play : 0.04512635379061372\n",
      "Education;Creativity : 0.04512635379061372\n",
      "Role Playing;Action & Adventure : 0.033844765342960284\n",
      "Puzzle;Action & Adventure : 0.033844765342960284\n",
      "Entertainment;Creativity : 0.033844765342960284\n",
      "Entertainment;Action & Adventure : 0.033844765342960284\n",
      "Educational;Creativity : 0.033844765342960284\n",
      "Educational;Action & Adventure : 0.033844765342960284\n",
      "Education;Music & Video : 0.033844765342960284\n",
      "Education;Brain Games : 0.033844765342960284\n",
      "Education;Action & Adventure : 0.033844765342960284\n",
      "Adventure;Action & Adventure : 0.033844765342960284\n",
      "Video Players & Editors;Music & Video : 0.02256317689530686\n",
      "Sports;Action & Adventure : 0.02256317689530686\n",
      "Simulation;Pretend Play : 0.02256317689530686\n",
      "Puzzle;Creativity : 0.02256317689530686\n",
      "Music;Music & Video : 0.02256317689530686\n",
      "Entertainment;Pretend Play : 0.02256317689530686\n",
      "Casual;Education : 0.02256317689530686\n",
      "Board;Action & Adventure : 0.02256317689530686\n",
      "Video Players & Editors;Creativity : 0.01128158844765343\n",
      "Trivia;Education : 0.01128158844765343\n",
      "Travel & Local;Action & Adventure : 0.01128158844765343\n",
      "Tools;Education : 0.01128158844765343\n",
      "Strategy;Education : 0.01128158844765343\n",
      "Strategy;Creativity : 0.01128158844765343\n",
      "Strategy;Action & Adventure : 0.01128158844765343\n",
      "Simulation;Education : 0.01128158844765343\n",
      "Role Playing;Brain Games : 0.01128158844765343\n",
      "Racing;Pretend Play : 0.01128158844765343\n",
      "Puzzle;Education : 0.01128158844765343\n",
      "Parenting;Brain Games : 0.01128158844765343\n",
      "Music & Audio;Music & Video : 0.01128158844765343\n",
      "Lifestyle;Pretend Play : 0.01128158844765343\n",
      "Lifestyle;Education : 0.01128158844765343\n",
      "Health & Fitness;Education : 0.01128158844765343\n",
      "Health & Fitness;Action & Adventure : 0.01128158844765343\n",
      "Entertainment;Education : 0.01128158844765343\n",
      "Communication;Creativity : 0.01128158844765343\n",
      "Comics;Creativity : 0.01128158844765343\n",
      "Casual;Music & Video : 0.01128158844765343\n",
      "Card;Action & Adventure : 0.01128158844765343\n",
      "Books & Reference;Education : 0.01128158844765343\n",
      "Art & Design;Pretend Play : 0.01128158844765343\n",
      "Art & Design;Action & Adventure : 0.01128158844765343\n",
      "Arcade;Pretend Play : 0.01128158844765343\n",
      "Adventure;Education : 0.01128158844765343\n"
     ]
    }
   ],
   "source": [
    "display_table(android_free_apps, 9) #genres"
   ]
  },
  {
   "cell_type": "markdown",
   "id": "b3d5c763",
   "metadata": {},
   "source": [
    "## Most popular apps by genre on the app store \n",
    "\n",
    "I'll be determining the number of apps with the most users by using the total number of user ratings which can be found in the rating_count_tot."
   ]
  },
  {
   "cell_type": "code",
   "execution_count": 88,
   "id": "a960daac",
   "metadata": {},
   "outputs": [
    {
     "name": "stdout",
     "output_type": "stream",
     "text": [
      "Social Networking : 71548.34905660378\n",
      "Photo & Video : 28441.54375\n",
      "Games : 22788.6696905016\n",
      "Music : 57326.530303030304\n",
      "Reference : 74942.11111111111\n",
      "Health & Fitness : 23298.015384615384\n",
      "Weather : 52279.892857142855\n",
      "Utilities : 18684.456790123455\n",
      "Travel : 28243.8\n",
      "Shopping : 26919.690476190477\n",
      "News : 21248.023255813954\n",
      "Navigation : 86090.33333333333\n",
      "Lifestyle : 16485.764705882353\n",
      "Entertainment : 14029.830708661417\n",
      "Food & Drink : 33333.92307692308\n",
      "Sports : 23008.898550724636\n",
      "Book : 39758.5\n",
      "Finance : 31467.944444444445\n",
      "Education : 7003.983050847458\n",
      "Productivity : 21028.410714285714\n",
      "Business : 7491.117647058823\n",
      "Catalogs : 4004.0\n",
      "Medical : 612.0\n"
     ]
    }
   ],
   "source": [
    "ios_genres = freq_table(ios_free_apps, 11)\n",
    "for genre in ios_genres:\n",
    "    total = 0\n",
    "    len_genre = 0\n",
    "    for row in ios_free_apps:\n",
    "        app_genre = row[11]\n",
    "        if app_genre == genre:\n",
    "            ratings = float(row[5])\n",
    "            total += ratings\n",
    "            len_genre += 1\n",
    "    avg_n_ratings = total / len_genre\n",
    "    print(genre, ':', avg_n_ratings)"
   ]
  },
  {
   "cell_type": "markdown",
   "id": "fa706130",
   "metadata": {},
   "source": [
    "Social networking apps seem popular but that is because of dominance of apps like Instagram, Facebook, Pinterest etc. The same is true for the reference genre where reviews are dominated by apps like the bible, dictonary etc. If these popular apps are eliminated from the list, the user reviews for these genres would be much smaller than they are currently. Since I'm only focusing on the high level analysis, I won't be separating out these popular apps.\n",
    "\n",
    "The fun and games section have the most reviews in general. In my earlier analysis, the fun and games(games, entertainment, photo & video and social networking) had the most supply of apps too, and this could mean a market saturation. \n",
    "\n",
    "Other interesting categories that seem popular among users are: weather, travel, food & drink, book, and finance. The weather genre would not be suitable because people don't spend a lot of time on weather apps so it would be difficult to generate in-app adds. Travel wouldn't work  for what we're looking for becuase it would require us to integrate with APIs from hotels and airlines and this would make the app non-free. Finance, especially personal finance sounds really interesting and I would have picked it as the recommmendation especially because of how popular it is with users, but it requires domain knowledge and the company isn't looking to hire a finance expert. \n",
    "\n",
    "The remaining popular categories are Food & Drink and Book. Only 0.4% of apps on the app store fall under the book category and 0.8% fall under the food & drink category. If we go with the book or food & drinks category, then there would definitely be room for the company's app to stand out among other apps.\n",
    "\n",
    "I'll recommend the Food & drink category and the app can be a content based app instead of a food or food delivery app. This can be different receipes from various countries, various diets, and how to make different drinks. "
   ]
  },
  {
   "cell_type": "markdown",
   "id": "c7071e27",
   "metadata": {},
   "source": [
    "## Most popular apps by genre on google play"
   ]
  },
  {
   "cell_type": "code",
   "execution_count": 89,
   "id": "4b2c9a64",
   "metadata": {},
   "outputs": [
    {
     "name": "stdout",
     "output_type": "stream",
     "text": [
      "1,000,000+ : 15.726534296028879\n",
      "100,000+ : 11.552346570397113\n",
      "10,000,000+ : 10.548285198555957\n",
      "10,000+ : 10.198555956678701\n",
      "1,000+ : 8.393501805054152\n",
      "100+ : 6.915613718411552\n",
      "5,000,000+ : 6.825361010830325\n",
      "500,000+ : 5.561823104693141\n",
      "50,000+ : 4.7721119133574\n",
      "5,000+ : 4.512635379061372\n",
      "10+ : 3.5424187725631766\n",
      "500+ : 3.2490974729241873\n",
      "50,000,000+ : 2.3014440433213\n",
      "100,000,000+ : 2.1322202166064983\n",
      "50+ : 1.917870036101083\n",
      "5+ : 0.78971119133574\n",
      "1+ : 0.5076714801444043\n",
      "500,000,000+ : 0.2707581227436823\n",
      "1,000,000,000+ : 0.22563176895306858\n",
      "0+ : 0.04512635379061372\n",
      "0 : 0.01128158844765343\n"
     ]
    }
   ],
   "source": [
    "display_table(android_free_apps, 5)"
   ]
  },
  {
   "cell_type": "markdown",
   "id": "e38af5ae",
   "metadata": {},
   "source": [
    "For analyzing apps on google play, I'll be using the install column displayed above. The installs have + after the numbers, so I'm unaware of the exact number of installs for each app. To simplify the analysis I'll remove the pluses and focus on the actual number. E.g 1,000,000+ installs would be analyzed as 1,000,000."
   ]
  },
  {
   "cell_type": "code",
   "execution_count": 92,
   "id": "09ea0e0f",
   "metadata": {},
   "outputs": [
    {
     "name": "stdout",
     "output_type": "stream",
     "text": [
      "ART_AND_DESIGN :  1986335.0877192982\n",
      "AUTO_AND_VEHICLES :  647317.8170731707\n",
      "BEAUTY :  513151.88679245283\n",
      "BOOKS_AND_REFERENCE :  8767811.894736841\n",
      "BUSINESS :  1712290.1474201474\n",
      "COMICS :  817657.2727272727\n",
      "COMMUNICATION :  38456119.167247385\n",
      "DATING :  854028.8303030303\n",
      "EDUCATION :  1833495.145631068\n",
      "ENTERTAINMENT :  11640705.88235294\n",
      "EVENTS :  253542.22222222222\n",
      "FINANCE :  1387692.475609756\n",
      "FOOD_AND_DRINK :  1924897.7363636363\n",
      "HEALTH_AND_FITNESS :  4188821.9853479853\n",
      "HOUSE_AND_HOME :  1331540.5616438356\n",
      "LIBRARIES_AND_DEMO :  638503.734939759\n",
      "LIFESTYLE :  1437816.2687861272\n",
      "GAME :  15588015.603248259\n",
      "FAMILY :  3695641.8198090694\n",
      "MEDICAL :  120550.61980830671\n",
      "SOCIAL :  23253652.127118643\n",
      "SHOPPING :  7036877.311557789\n",
      "PHOTOGRAPHY :  17840110.40229885\n",
      "SPORTS :  3638640.1428571427\n",
      "TRAVEL_AND_LOCAL :  13984077.710144928\n",
      "TOOLS :  10801391.298666667\n",
      "PERSONALIZATION :  5201482.6122448975\n",
      "PRODUCTIVITY :  16787331.344927534\n",
      "PARENTING :  542603.6206896552\n",
      "WEATHER :  5074486.197183099\n",
      "VIDEO_PLAYERS :  24727872.452830188\n",
      "NEWS_AND_MAGAZINES :  9549178.467741935\n",
      "MAPS_AND_NAVIGATION :  4056941.7741935486\n"
     ]
    }
   ],
   "source": [
    "android_freq = freq_table(android_free_apps, 1) #frequency table for google category data\n",
    "for genre in android_freq:\n",
    "    total = 0\n",
    "    len_genre = 0\n",
    "    for app in android_free_apps:\n",
    "        if app[1] == genre:\n",
    "            installs = app[5]\n",
    "            installs = installs.replace(\"+\", \"\")\n",
    "            installs = installs.replace(\",\", \"\")\n",
    "            installs = float(installs)\n",
    "            total += installs\n",
    "            len_genre += 1\n",
    "    average_installs = total/len_genre\n",
    "    print(genre, \": \", average_installs)\n",
    "    "
   ]
  },
  {
   "cell_type": "markdown",
   "id": "1ebcf41b",
   "metadata": {},
   "source": [
    "The communication genre seems to be the most popular with over 38 million installs, followed by video player with over 24 million, social with over 23 million and photography with over 17 million installs. The communication genere are dominated by a few popular apps(Gmail, hangouts, skype, Messenger). This also applies to the video player and photography genres. The companies that dominate these categories are very difficult to compete against so I'll be moving on to other categories to explore further what could work best in our situation. \n",
    "\n",
    "\n",
    "Other popular categories include: entertainment, games,productivity, tools, shopping and travel. I determined earlier that there seems to be a market saturation in the fun/entertainment and games categoory so I wouldn't be recommending these categories. Other popular apps with over 1 million installs include: business, education, finance, art & design, food & drinks, health & fitness, lifestyle and family. My recommendation here is to go with the food & drink genre and make a content based app on different receipes for food, snacks and drinks becasue we're looking for apps that can work for both the google and apple markets. Also, there's a vast idea of contents that can be created in this genre, plus a huge room for generating revenue through ads in this genre. It is important to note that only 1.2 percent of apps available in the google play store are in the food & drink niche so there's definitely room for the company's app to standout amongst other apps in the market."
   ]
  },
  {
   "cell_type": "markdown",
   "id": "0fc2cfc8",
   "metadata": {},
   "source": [
    "# Conclusion \n",
    "\n",
    "In this project, I analyzed data about free apps for English speakers in the google play store and Apple app store with a goal of recommending a niche that can be profitable in both markets.\n",
    "\n",
    "I concluded that creating a content based app in the Food & Drink genre that would recommend various receipes and teach users how to cook different diets and dishes from various countries would be profitable for both google play store and apple apps markets."
   ]
  },
  {
   "cell_type": "code",
   "execution_count": null,
   "id": "1f5f9d00",
   "metadata": {},
   "outputs": [],
   "source": []
  }
 ],
 "metadata": {
  "kernelspec": {
   "display_name": "Python 3 (ipykernel)",
   "language": "python",
   "name": "python3"
  },
  "language_info": {
   "codemirror_mode": {
    "name": "ipython",
    "version": 3
   },
   "file_extension": ".py",
   "mimetype": "text/x-python",
   "name": "python",
   "nbconvert_exporter": "python",
   "pygments_lexer": "ipython3",
   "version": "3.7.1"
  }
 },
 "nbformat": 4,
 "nbformat_minor": 5
}
